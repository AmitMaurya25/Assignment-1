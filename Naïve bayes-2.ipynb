{
 "cells": [
  {
   "cell_type": "code",
   "execution_count": null,
   "id": "04aec173-0bae-4d2d-b913-603841486831",
   "metadata": {},
   "outputs": [],
   "source": [
    "Q1:\n",
    "\n",
    "P(smoker | uses health insurance) = P(uses health insurance | smoker) * P(smoker) / P(uses health insurance)\n",
    "\n",
    "We are given P(uses health insurance) = 0.7 and P(smoker | uses health insurance) = 0.4. We need to find P(smoker). Unfortunately,\n",
    "the information provided is not enough to calculate P(smoker) directly. We would need either the total percentage of smokers in the company or the percentage of non-smokers who use the health insurance plan."
   ]
  },
  {
   "cell_type": "code",
   "execution_count": null,
   "id": "394fb170-dfbe-42f6-8223-42be33e24076",
   "metadata": {},
   "outputs": [],
   "source": [
    "Q2:\n",
    "\n",
    "Bernoulli Naive Bayes: Assumes binary features (0 or 1), like \"present\" or \"absent\" for a specific word in a document. Ideal for text classification or data with boolean features.\n",
    "Multinomial Naive Bayes: Assumes features are counts or frequencies, like word count in a document. Suitable for text classification with \"bag-of-words\" representation."
   ]
  },
  {
   "cell_type": "code",
   "execution_count": 1,
   "id": "92000eee-39d7-47a1-b65c-efc15eadd36d",
   "metadata": {},
   "outputs": [
    {
     "name": "stdout",
     "output_type": "stream",
     "text": [
      "Population mean estimated with 95% confidence interval: 486.1407070887437 - 513.8592929112564\n"
     ]
    }
   ],
   "source": [
    "Q3:\n",
    "\n",
    "Bernoulli Naive Bayes can handle missing values in two ways:\n",
    "\n",
    "Ignoring: Simply ignore the missing data point when calculating probabilities for each feature. This assumes missing values are random and don't provide any information.\n",
    "Imputation: Impute missing values with a placeholder value (e.g., mean, median) or another strategy before calculating probabilities."
   ]
  },
  {
   "cell_type": "code",
   "execution_count": null,
   "id": "f87a4a3c-0560-4d80-9ea9-e03d6062f3e9",
   "metadata": {},
   "outputs": [],
   "source": [
    "Q4:\n",
    "\n",
    "No, Gaussian Naive Bayes assumes continuous features normally distributed (Gaussian) and works best for regression problems or multi-class classification with continuous features."
   ]
  },
  {
   "cell_type": "code",
   "execution_count": 1,
   "id": "dc4bbd02-ab7f-4d68-a52f-aa9f12c7a9bd",
   "metadata": {},
   "outputs": [
    {
     "name": "stdout",
     "output_type": "stream",
     "text": [
      "Bernoulli Naive Bayes:\n",
      "Accuracy: 0.8839380364047911\n",
      "Precision: 0.8869617393737383\n",
      "Recall: 0.8152389047416673\n",
      "F1 Score: 0.8481249015095276\n",
      "\n",
      "\n",
      "Multinomial Naive Bayes:\n",
      "Accuracy: 0.7863496180326323\n",
      "Precision: 0.7393175533565436\n",
      "Recall: 0.7214983911116508\n",
      "F1 Score: 0.7282909724016348\n",
      "\n",
      "\n",
      "Gaussian Naive Bayes:\n",
      "Accuracy: 0.8217730830896915\n",
      "Precision: 0.7103733928118492\n",
      "Recall: 0.9569516119239877\n",
      "F1 Score: 0.8130660909542995\n"
     ]
    }
   ],
   "source": [
    "import numpy as np\n",
    "import pandas as pd\n",
    "from sklearn.model_selection import cross_val_score\n",
    "from sklearn.naive_bayes import BernoulliNB, MultinomialNB, GaussianNB\n",
    "from sklearn.metrics import accuracy_score, precision_score, recall_score, f1_score\n",
    "\n",
    "# Load the Spambase dataset\n",
    "url = \"https://archive.ics.uci.edu/ml/machine-learning-databases/spambase/spambase.data\"\n",
    "names = [\n",
    "    \"word_freq_make\", \"word_freq_address\", \"word_freq_all\", \"word_freq_3d\", \"word_freq_our\",\n",
    "    \"word_freq_over\", \"word_freq_remove\", \"word_freq_internet\", \"word_freq_order\", \"word_freq_mail\",\n",
    "    \"word_freq_receive\", \"word_freq_will\", \"word_freq_people\", \"word_freq_report\", \"word_freq_addresses\",\n",
    "    \"word_freq_free\", \"word_freq_business\", \"word_freq_email\", \"word_freq_you\", \"word_freq_credit\",\n",
    "    \"word_freq_your\", \"word_freq_font\", \"word_freq_000\", \"word_freq_money\", \"word_freq_hp\", \"word_freq_hpl\",\n",
    "    \"word_freq_george\", \"word_freq_650\", \"word_freq_lab\", \"word_freq_labs\", \"word_freq_telnet\", \"word_freq_857\",\n",
    "    \"word_freq_data\", \"word_freq_415\", \"word_freq_85\", \"word_freq_technology\", \"word_freq_1999\", \"word_freq_parts\",\n",
    "    \"word_freq_pm\", \"word_freq_direct\", \"word_freq_cs\", \"word_freq_meeting\", \"word_freq_original\", \"word_freq_project\",\n",
    "    \"word_freq_re\", \"word_freq_edu\", \"word_freq_table\", \"word_freq_conference\", \"char_freq_;\", \"char_freq_(\",\n",
    "    \"char_freq_[\", \"char_freq_!\", \"char_freq_$\", \"char_freq_#\", \"capital_run_length_average\", \"capital_run_length_longest\",\n",
    "    \"capital_run_length_total\", \"is_spam\"\n",
    "]\n",
    "data = pd.read_csv(url, names=names)\n",
    "\n",
    "# Prepare data\n",
    "X = data.drop('is_spam', axis=1)\n",
    "y = data['is_spam']\n",
    "\n",
    "# Initialize classifiers\n",
    "bernoulli_nb = BernoulliNB()\n",
    "multinomial_nb = MultinomialNB()\n",
    "gaussian_nb = GaussianNB()\n",
    "\n",
    "# Perform 10-fold cross-validation and compute performance metrics\n",
    "def evaluate_classifier(classifier, X, y):\n",
    "    accuracy = cross_val_score(classifier, X, y, cv=10, scoring='accuracy')\n",
    "    precision = cross_val_score(classifier, X, y, cv=10, scoring='precision')\n",
    "    recall = cross_val_score(classifier, X, y, cv=10, scoring='recall')\n",
    "    f1 = cross_val_score(classifier, X, y, cv=10, scoring='f1')\n",
    "    return accuracy, precision, recall, f1\n",
    "\n",
    "# Evaluate Bernoulli Naive Bayes\n",
    "accuracy_bernoulli, precision_bernoulli, recall_bernoulli, f1_bernoulli = evaluate_classifier(bernoulli_nb, X, y)\n",
    "\n",
    "# Evaluate Multinomial Naive Bayes\n",
    "accuracy_multinomial, precision_multinomial, recall_multinomial, f1_multinomial = evaluate_classifier(multinomial_nb, X, y)\n",
    "\n",
    "# Evaluate Gaussian Naive Bayes\n",
    "accuracy_gaussian, precision_gaussian, recall_gaussian, f1_gaussian = evaluate_classifier(gaussian_nb, X, y)\n",
    "\n",
    "# Report performance metrics\n",
    "print(\"Bernoulli Naive Bayes:\")\n",
    "print(\"Accuracy:\", np.mean(accuracy_bernoulli))\n",
    "print(\"Precision:\", np.mean(precision_bernoulli))\n",
    "print(\"Recall:\", np.mean(recall_bernoulli))\n",
    "print(\"F1 Score:\", np.mean(f1_bernoulli))\n",
    "print(\"\\n\")\n",
    "\n",
    "print(\"Multinomial Naive Bayes:\")\n",
    "print(\"Accuracy:\", np.mean(accuracy_multinomial))\n",
    "print(\"Precision:\", np.mean(precision_multinomial))\n",
    "print(\"Recall:\", np.mean(recall_multinomial))\n",
    "print(\"F1 Score:\", np.mean(f1_multinomial))\n",
    "print(\"\\n\")\n",
    "\n",
    "print(\"Gaussian Naive Bayes:\")\n",
    "print(\"Accuracy:\", np.mean(accuracy_gaussian))\n",
    "print(\"Precision:\", np.mean(precision_gaussian))\n",
    "print(\"Recall:\", np.mean(recall_gaussian))\n",
    "print(\"F1 Score:\", np.mean(f1_gaussian))\n"
   ]
  },
  {
   "cell_type": "code",
   "execution_count": 12,
   "id": "da1b61e9-3ed3-4f81-93dc-a5ce9d8c6c79",
   "metadata": {},
   "outputs": [
    {
     "name": "stdout",
     "output_type": "stream",
     "text": [
      "95% confidence interval for the population mean height: 174.02001800772996 - 175.97998199227004\n"
     ]
    }
   ],
   "source": [
    "Q5:\n",
    "\n",
    "Due to the limitations of this platform, I cannot access and process external links or code directly. However, I can guide you through the assignment with information and suggestions:\n",
    "\n",
    "Data Preparation:\n",
    "\n",
    "Download the \"Spambase Data Set\" from the UCI Machine Learning Repository.\n",
    "Explore the data, understand the features, and check for missing values.\n",
    "Preprocess the data (e.g., handle missing values, convert categorical features to numerical).\n",
    "Split the data into training and testing sets.\n",
    "Implementation:\n",
    "\n",
    "Use scikit-learn library in Python to implement:\n",
    "Bernoulli Naive Bayes\n",
    "Multinomial Naive Bayes\n",
    "(Skip Gaussian Naive Bayes as it's not suitable)\n",
    "Use 10-fold cross-validation for each classifier.\n",
    "Evaluate performance using accuracy, precision, recall, and F1 score.\n",
    "Results:\n",
    "\n",
    "Report the performance metrics for each classifier.\n",
    "Analyze the results and compare performance.\n",
    "Discussion:\n",
    "\n",
    "Discuss which variant performed best and why.\n",
    "Consider factors like data characteristics, feature types, and assumptions of each classifier.\n",
    "Mention any limitations you observed with Naive Bayes (e.g., assumption independence).\n",
    "Conclusion:\n",
    "\n",
    "Summarize your findings and insights.\n",
    "Suggest potential improvements or future work using other algorithms or techniques.\n",
    "Additional Tips:\n",
    "\n",
    "Explore hyperparameter tuning for each classifier to potentially improve performance.\n",
    "Visualize the results (e.g., confusion matrix) to gain further insights.\n",
    "Consider class imbalance if present and explore techniques to address it."
   ]
  }
 ],
 "metadata": {
  "kernelspec": {
   "display_name": "Python 3 (ipykernel)",
   "language": "python",
   "name": "python3"
  },
  "language_info": {
   "codemirror_mode": {
    "name": "ipython",
    "version": 3
   },
   "file_extension": ".py",
   "mimetype": "text/x-python",
   "name": "python",
   "nbconvert_exporter": "python",
   "pygments_lexer": "ipython3",
   "version": "3.10.8"
  }
 },
 "nbformat": 4,
 "nbformat_minor": 5
}
