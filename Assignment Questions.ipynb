{
 "cells": [
  {
   "cell_type": "code",
   "execution_count": null,
   "id": "c52c5e99-cfc7-4cde-9a53-4b8d94816dd9",
   "metadata": {},
   "outputs": [],
   "source": [
    "Q1. Write a Python function that takes in two arrays of data and calculates the F-value for a variance ratio test. The function should return the F-value and the corresponding p-value for the test."
   ]
  },
  {
   "cell_type": "code",
   "execution_count": 1,
   "id": "9acb9fbc-54c1-42c7-8441-0faa9afa0b4b",
   "metadata": {},
   "outputs": [
    {
     "name": "stdout",
     "output_type": "stream",
     "text": [
      "F-value: 1.0\n",
      "p-value: 0.3465935070873342\n"
     ]
    }
   ],
   "source": [
    "import numpy as np\n",
    "import scipy.stats as stats\n",
    "\n",
    "def variance_ratio_test(data1, data2):\n",
    "    f_value, p_value = stats.f_oneway(data1, data2)\n",
    "    return f_value, p_value\n",
    "\n",
    "# Example usage:\n",
    "data1 = [1, 2, 3, 4, 5]\n",
    "data2 = [2, 3, 4, 5, 6]\n",
    "f_value, p_value = variance_ratio_test(data1, data2)\n",
    "print(\"F-value:\", f_value)\n",
    "print(\"p-value:\", p_value)\n"
   ]
  },
  {
   "cell_type": "code",
   "execution_count": null,
   "id": "77113cd5-6980-45bc-a6d1-d7a5195989cb",
   "metadata": {},
   "outputs": [],
   "source": [
    "Q2. Given a significance level of 0.05 and the degrees of freedom for the numerator and denominator of an F-distribution, write a Python function that returns the critical F-value for a two-tailed test."
   ]
  },
  {
   "cell_type": "code",
   "execution_count": 2,
   "id": "e6883f10-babb-4916-811c-6ec40ad2e7a3",
   "metadata": {},
   "outputs": [
    {
     "name": "stdout",
     "output_type": "stream",
     "text": [
      "Critical F-value: 4.825621493405406\n"
     ]
    }
   ],
   "source": [
    "def critical_f_value(alpha, df_num, df_denom):\n",
    "    return stats.f.ppf(1 - alpha / 2, df_num, df_denom)\n",
    "\n",
    "# Example usage:\n",
    "alpha = 0.05\n",
    "df_num = 3\n",
    "df_denom = 10\n",
    "print(\"Critical F-value:\", critical_f_value(alpha, df_num, df_denom))\n"
   ]
  },
  {
   "cell_type": "code",
   "execution_count": null,
   "id": "a377f4b3-134c-4c97-b309-f1993592323a",
   "metadata": {},
   "outputs": [],
   "source": [
    "Q3. Write a Python program that generates random samples from two normal distributions with known variances and uses an F-test to determine if the variances are equal. The program should output the F-value, degrees of freedom, and p-value for the test."
   ]
  },
  {
   "cell_type": "code",
   "execution_count": 3,
   "id": "5f31227a-e014-4955-90dc-1cf0d0526feb",
   "metadata": {},
   "outputs": [
    {
     "name": "stdout",
     "output_type": "stream",
     "text": [
      "F-value: 5.845963002757314\n",
      "p-value: 0.0165184508711062\n"
     ]
    }
   ],
   "source": [
    "def f_test_for_equal_variances(data1, data2):\n",
    "    f_value, p_value = stats.levene(data1, data2)\n",
    "    return f_value, p_value\n",
    "\n",
    "# Example usage:\n",
    "data1 = np.random.normal(loc=0, scale=1, size=100)\n",
    "data2 = np.random.normal(loc=0, scale=1.5, size=100)\n",
    "f_value, p_value = f_test_for_equal_variances(data1, data2)\n",
    "print(\"F-value:\", f_value)\n",
    "print(\"p-value:\", p_value)\n",
    "\n",
    "\n",
    "\n"
   ]
  },
  {
   "cell_type": "code",
   "execution_count": null,
   "id": "01dfc0ea-f388-428d-9b75-e8494a48b31a",
   "metadata": {},
   "outputs": [],
   "source": [
    "Q4. The variances of two populations are known to be 10 and 15. A sample of 12 observations is taken from each population. Conduct an F-test at the 5% significance level to determine if the variances are significantly different."
   ]
  },
  {
   "cell_type": "code",
   "execution_count": 4,
   "id": "967ae742-9efb-49b3-aa6b-a80fe904f8ab",
   "metadata": {},
   "outputs": [
    {
     "name": "stdout",
     "output_type": "stream",
     "text": [
      "Fail to reject null hypothesis: Variances are not significantly different.\n"
     ]
    }
   ],
   "source": [
    "import scipy.stats as stats\n",
    "\n",
    "variance1 = 10\n",
    "variance2 = 15\n",
    "sample_size = 12\n",
    "df1 = sample_size - 1\n",
    "df2 = sample_size - 1\n",
    "\n",
    "# Calculate F-value\n",
    "f_value = variance1 / variance2\n",
    "\n",
    "# Calculate critical F-value\n",
    "alpha = 0.05\n",
    "critical_f_value = stats.f.ppf(1 - alpha / 2, df1, df2)\n",
    "\n",
    "# Compare with critical F-value\n",
    "if f_value > critical_f_value or f_value < 1 / critical_f_value:\n",
    "    print(\"Reject null hypothesis: Variances are significantly different.\")\n",
    "else:\n",
    "    print(\"Fail to reject null hypothesis: Variances are not significantly different.\")\n"
   ]
  },
  {
   "cell_type": "code",
   "execution_count": null,
   "id": "3fe73b2f-0e97-49a4-b758-9eefb0733389",
   "metadata": {},
   "outputs": [],
   "source": [
    "Q5. A manufacturer claims that the variance of the diameter of a certain product is 0.005. A sample of 25 products is taken, and the sample variance is found to be 0.006. Conduct an F-test at the 1% significance level to determine if the claim is justified."
   ]
  },
  {
   "cell_type": "code",
   "execution_count": 5,
   "id": "cac839a7-605e-44ef-b0c5-da452cce4072",
   "metadata": {},
   "outputs": [
    {
     "name": "stdout",
     "output_type": "stream",
     "text": [
      "Fail to reject null hypothesis: Claim is not justified.\n"
     ]
    }
   ],
   "source": [
    "import scipy.stats as stats\n",
    "\n",
    "population_variance = 0.005\n",
    "sample_variance = 0.006\n",
    "sample_size = 25\n",
    "df1 = sample_size - 1\n",
    "df2 = sample_size - 1\n",
    "\n",
    "# Calculate F-value\n",
    "f_value = sample_variance / population_variance\n",
    "\n",
    "# Calculate critical F-value\n",
    "alpha = 0.01\n",
    "critical_f_value = stats.f.ppf(1 - alpha / 2, df1, df2)\n",
    "\n",
    "# Compare with critical F-value\n",
    "if f_value > critical_f_value or f_value < 1 / critical_f_value:\n",
    "    print(\"Reject null hypothesis: Claim is justified.\")\n",
    "else:\n",
    "    print(\"Fail to reject null hypothesis: Claim is not justified.\")\n"
   ]
  },
  {
   "cell_type": "code",
   "execution_count": null,
   "id": "501e981f-a486-4f6f-992e-adfe9769dfab",
   "metadata": {},
   "outputs": [],
   "source": [
    "Q6. Write a Python function that takes in the degrees of freedom for the numerator and denominator of an F-distribution and calculates the mean and variance of the distribution. The function should return the mean and variance as a tuple."
   ]
  },
  {
   "cell_type": "code",
   "execution_count": 6,
   "id": "460472b5-0985-46e8-acdc-d1cda50b6251",
   "metadata": {},
   "outputs": [
    {
     "name": "stdout",
     "output_type": "stream",
     "text": [
      "Mean: 1.25\n",
      "Variance: 1.9097222222222223\n"
     ]
    }
   ],
   "source": [
    "def f_distribution_mean_variance(df_num, df_denom):\n",
    "    mean = df_denom / (df_denom - 2)\n",
    "    variance = (2 * (df_denom ** 2) * (df_num + df_denom - 2)) / ((df_num * (df_denom - 2) ** 2 * (df_denom - 4)))\n",
    "    return mean, variance\n",
    "\n",
    "# Example usage:\n",
    "df_num = 3\n",
    "df_denom = 10\n",
    "mean, variance = f_distribution_mean_variance(df_num, df_denom)\n",
    "print(\"Mean:\", mean)\n",
    "print(\"Variance:\", variance)\n"
   ]
  },
  {
   "cell_type": "code",
   "execution_count": null,
   "id": "4ceb9300-bf96-4d03-ad11-34f6e8434ad8",
   "metadata": {},
   "outputs": [],
   "source": [
    "Q7. A random sample of 10 measurements is taken from a normal population with unknown variance. -----------------------------------------------------------"
   ]
  },
  {
   "cell_type": "code",
   "execution_count": 7,
   "id": "b22f46e8-5c52-4dc6-b2b6-96982e02ed74",
   "metadata": {},
   "outputs": [
    {
     "name": "stdout",
     "output_type": "stream",
     "text": [
      "Fail to reject null hypothesis: Variances are not significantly different.\n"
     ]
    }
   ],
   "source": [
    "import scipy.stats as stats\n",
    "\n",
    "sample_variance1 = 25\n",
    "sample_variance2 = 20\n",
    "df1 = 10 - 1\n",
    "df2 = 15 - 1\n",
    "\n",
    "# Calculate F-value\n",
    "f_value = sample_variance1 / sample_variance2\n",
    "\n",
    "# Calculate critical F-value\n",
    "alpha = 0.10\n",
    "critical_f_value = stats.f.ppf(1 - alpha / 2, df1, df2)\n",
    "\n",
    "# Compare with critical F-value\n",
    "if f_value > critical_f_value or f_value < 1 / critical_f_value:\n",
    "    print(\"Reject null hypothesis: Variances are significantly different.\")\n",
    "else:\n",
    "    print(\"Fail to reject null hypothesis: Variances are not significantly different.\")\n"
   ]
  },
  {
   "cell_type": "code",
   "execution_count": null,
   "id": "32f3d53e-9312-4571-8df6-1a5117eabd4d",
   "metadata": {},
   "outputs": [],
   "source": [
    "Q8. The following data represent the waiting times in minutes at two different restaurants on a Saturday night: Restaurant ---------------------------------------------------"
   ]
  },
  {
   "cell_type": "code",
   "execution_count": 8,
   "id": "43991f91-af5a-47f5-b618-003a06a614a4",
   "metadata": {},
   "outputs": [
    {
     "name": "stdout",
     "output_type": "stream",
     "text": [
      "Fail to reject null hypothesis: Variances are not significantly different.\n"
     ]
    }
   ],
   "source": [
    "import scipy.stats as stats\n",
    "\n",
    "waiting_times_a = [24, 25, 28, 23, 22, 20, 27]\n",
    "waiting_times_b = [31, 33, 35, 30, 32, 36]\n",
    "df1 = len(waiting_times_a) - 1\n",
    "df2 = len(waiting_times_b) - 1\n",
    "\n",
    "# Calculate sample variances\n",
    "sample_variance_a = np.var(waiting_times_a, ddof=1)\n",
    "sample_variance_b = np.var(waiting_times_b, ddof=1)\n",
    "\n",
    "# Calculate F-value\n",
    "f_value = sample_variance_a / sample_variance_b\n",
    "\n",
    "# Calculate critical F-value\n",
    "alpha = 0.05\n",
    "critical_f_value = stats.f.ppf(1 - alpha / 2, df1, df2)\n",
    "\n",
    "# Compare with cjritical F-value\n",
    "if f_value > critical_f_value or f_value < 1 / critical_f_value:\n",
    "    print(\"Reject null hypothesis: Variances are significantly different.\")\n",
    "else:\n",
    "    print(\"Fail to reject null hypothesis: Variances are not significantly different.\")\n"
   ]
  },
  {
   "cell_type": "code",
   "execution_count": null,
   "id": "0bfeb203-f1be-4505-874e-8dfdd00dd379",
   "metadata": {},
   "outputs": [],
   "source": [
    "Q9. The following data represent the test scores of two groups of students: Group A: 80, 85, 90, 92, 87, 83; Group"
   ]
  },
  {
   "cell_type": "code",
   "execution_count": 9,
   "id": "105d3c79-4a99-49f7-af76-fbc47aa3f6ca",
   "metadata": {},
   "outputs": [
    {
     "name": "stdout",
     "output_type": "stream",
     "text": [
      "Fail to reject null hypothesis: Variances are not significantly different.\n"
     ]
    }
   ],
   "source": [
    "import scipy.stats as stats\n",
    "\n",
    "group_a_scores = [80, 85, 90, 92, 87, 83]\n",
    "group_b_scores = [75, 78, 82, 79, 81, 84]\n",
    "df1 = len(group_a_scores) - 1\n",
    "df2 = len(group_b_scores) - 1\n",
    "\n",
    "# Calculate sample variances\n",
    "sample_variance_a = np.var(group_a_scores, ddof=1)\n",
    "sample_variance_b = np.var(group_b_scores, ddof=1)\n",
    "\n",
    "# Calculate F-value\n",
    "f_value = sample_variance_a / sample_variance_b\n",
    "\n",
    "# Calculate critical F-value\n",
    "alpha = 0.01\n",
    "critical_f_value = stats.f.ppf(1 - alpha / 2, df1, df2)\n",
    "\n",
    "# Compare with critical F-value\n",
    "if f_value > critical_f_value or f_value < 1 / critical_f_value:\n",
    "    print(\"Reject null hypothesis: Variances are significantly different.\")\n",
    "else:\n",
    "    print(\"Fail to reject null hypothesis: Variances are not significantly different.\")\n"
   ]
  },
  {
   "cell_type": "code",
   "execution_count": null,
   "id": "34cf779e-1fb0-49fa-a353-66b8bd986e7a",
   "metadata": {},
   "outputs": [],
   "source": []
  }
 ],
 "metadata": {
  "kernelspec": {
   "display_name": "Python 3 (ipykernel)",
   "language": "python",
   "name": "python3"
  },
  "language_info": {
   "codemirror_mode": {
    "name": "ipython",
    "version": 3
   },
   "file_extension": ".py",
   "mimetype": "text/x-python",
   "name": "python",
   "nbconvert_exporter": "python",
   "pygments_lexer": "ipython3",
   "version": "3.10.8"
  }
 },
 "nbformat": 4,
 "nbformat_minor": 5
}
