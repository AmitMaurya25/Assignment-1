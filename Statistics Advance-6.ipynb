{
 "cells": [
  {
   "cell_type": "code",
   "execution_count": null,
   "id": "f28e4fb9-fad7-49a7-b2fc-c4de3329a1a6",
   "metadata": {},
   "outputs": [],
   "source": [
    "Q1. Assumptions for using ANOVA:\n",
    "\n",
    "Independence: Observations within and between groups are independent.\n",
    "Normality: The dependent variable follows a normal distribution within each group.\n",
    "Homogeneity of Variance: Variances of the dependent variable are equal across all groups.\n",
    "Examples of violations:\n",
    "\n",
    "Violation of independence: Participants in one group influencing those in another group.\n",
    "Non-normality: Skewed or heavily-tailed distributions within groups.\n",
    "Violation of homogeneity of variance: One group having significantly larger variance than others."
   ]
  },
  {
   "cell_type": "code",
   "execution_count": null,
   "id": "21600861-6f48-4637-a812-2eebb3f3d391",
   "metadata": {},
   "outputs": [],
   "source": [
    "Q2. Three types of ANOVA:\n",
    "\n",
    "One-way ANOVA: Compares means of three or more groups on one independent variable.\n",
    "Two-way ANOVA: Examines the influence of two independent variables on one dependent variable.\n",
    "Repeated Measures ANOVA: Analyzes within-subject changes across different conditions or time points."
   ]
  },
  {
   "cell_type": "code",
   "execution_count": null,
   "id": "6856541a-d395-4955-ba78-0a095e3858b7",
   "metadata": {},
   "outputs": [],
   "source": [
    "Q3. Partitioning of variance:\n",
    "ANOVA partitions the total variance of the dependent variable into components attributable to different sources like treatment effects and random error.\n",
    "Understanding this helps in assessing the relative importance of various factors influencing the outcome."
   ]
  },
  {
   "cell_type": "code",
   "execution_count": null,
   "id": "86c3c623-c9c5-4858-9aec-5623b80c4500",
   "metadata": {},
   "outputs": [],
   "source": [
    "Q4. Calculation of SST, SSE, and SSR in one-way ANOVA using Python:\n",
    "SST = sum((x - grand_mean)²)\n",
    "SSE = sum((x - group_mean)²)\n",
    "SSR = SST - SSE"
   ]
  },
  {
   "cell_type": "code",
   "execution_count": null,
   "id": "92d43bb5-d8dd-4d40-a146-9b5816012c11",
   "metadata": {},
   "outputs": [],
   "source": [
    "Q5. Calculation of main effects and interaction effects in two-way ANOVA using Python:\n",
    "Main effects: Differences in group means for each independent variable.\n",
    "Interaction effects: The combined effect of two independent variables."
   ]
  },
  {
   "cell_type": "code",
   "execution_count": null,
   "id": "623a3023-298e-4898-9e72-26f41bef4b0e",
   "metadata": {},
   "outputs": [],
   "source": [
    "Q6. Interpretation of one-way ANOVA results:\n",
    "With an F-statistic of 5.23 and a p-value of 0.02, we reject the null hypothesis of equal group means. This suggests that there are significant differences between at least two groups.\n",
    "Further post-hoc tests can determine which groups differ significantly."
   ]
  },
  {
   "cell_type": "code",
   "execution_count": null,
   "id": "4e3ef011-bd38-4b86-b6a4-6408fa1ec332",
   "metadata": {},
   "outputs": [],
   "source": [
    "Q7. Handling missing data in repeated measures ANOVA:\n",
    "Missing data can be handled through methods like imputation or using statistical techniques that accommodate missingness like Mixed Effects Models. Consequences include biased estimates if not handled properly."
   ]
  },
  {
   "cell_type": "code",
   "execution_count": null,
   "id": "fb027653-3107-4241-8091-1acbafe6e92e",
   "metadata": {},
   "outputs": [],
   "source": [
    "Q8. Common post-hoc tests:\n",
    "\n",
    "Tukey's HSD: Controls Type I error rate for all pairwise comparisons.\n",
    "Bonferroni correction: Adjusts significance threshold for multiple comparisons.\n",
    "Scheffe's method: Used for complex comparisons.\n",
    "Post-hoc tests are necessary when ANOVA indicates significant differences among groups, but it doesn't specify which groups are different."
   ]
  },
  {
   "cell_type": "code",
   "execution_count": null,
   "id": "50ae25cf-75da-46a7-956d-efcd00c42575",
   "metadata": {},
   "outputs": [],
   "source": [
    "Q9. One-way ANOVA in Python:"
   ]
  },
  {
   "cell_type": "code",
   "execution_count": 1,
   "id": "fa6307d5-368f-42d0-b804-ac89850bfb02",
   "metadata": {},
   "outputs": [
    {
     "name": "stdout",
     "output_type": "stream",
     "text": [
      "F-statistic: 10.380952380952385\n",
      "p-value: 0.0024147524494592763\n"
     ]
    }
   ],
   "source": [
    "import scipy.stats as stats\n",
    "\n",
    "# Data for weight loss\n",
    "diet_A = [2, 3, 4, 2, 3]\n",
    "diet_B = [3, 4, 5, 4, 5]\n",
    "diet_C = [1, 2, 1, 3, 2]\n",
    "\n",
    "# Perform one-way ANOVA\n",
    "f_statistic, p_value = stats.f_oneway(diet_A, diet_B, diet_C)\n",
    "print(\"F-statistic:\", f_statistic)\n",
    "print(\"p-value:\", p_value)\n"
   ]
  },
  {
   "cell_type": "code",
   "execution_count": null,
   "id": "f6c81e67-dfba-4ca6-ac60-000c06b17469",
   "metadata": {},
   "outputs": [],
   "source": [
    "Q10: Two-Way ANOVA"
   ]
  },
  {
   "cell_type": "code",
   "execution_count": 14,
   "id": "b8a649b0-85d7-4b3a-b04d-f9a274da854d",
   "metadata": {},
   "outputs": [
    {
     "name": "stdout",
     "output_type": "stream",
     "text": [
      "Lengths of arrays do not match.\n"
     ]
    }
   ],
   "source": [
    "import pandas as pd\n",
    "import statsmodels.api as sm\n",
    "\n",
    "# Example data for completion times\n",
    "completion_times = [10, 12, 15, 11, 13, 14, 18, 20, 22]  # Replace with your data\n",
    "\n",
    "# Example data for program and experience_level\n",
    "programs = [\"A\", \"A\", \"B\", \"B\", \"C\", \"C\", \"A\", \"B\", \"C\"]\n",
    "experience_levels = [\"novice\", \"experienced\"] * 3\n",
    "\n",
    "# Check if all arrays have the same length\n",
    "if len(completion_times) == len(programs) == len(experience_levels):\n",
    "    # Create the DataFrame\n",
    "    data = pd.DataFrame({\n",
    "        \"program\": programs,\n",
    "        \"experience_level\": experience_levels,\n",
    "        \"completion_time\": completion_times\n",
    "    })\n",
    "\n",
    "    # Fit the model\n",
    "    model = sm.ols(formula=\"completion_time ~ program + experience_level + program:experience_level\", data=data)\n",
    "    results = model.fit()\n",
    "\n",
    "    # Print the summary\n",
    "    print(results.summary())\n",
    "else:\n",
    "    print(\"Lengths of arrays do not match.\")\n"
   ]
  },
  {
   "cell_type": "code",
   "execution_count": null,
   "id": "5de26ae5-efe9-4010-8b5a-db1b45febb4e",
   "metadata": {},
   "outputs": [],
   "source": [
    "Interpretation:\n",
    "\n",
    "Main Effects:\n",
    "Examine p-values for program and experience_level. If p < 0.05, there's a significant main effect, indicating program or experience level impacts completion time.\n",
    "Look at mean completion times by program and experience level to understand the nature of the effect.\n",
    "Interaction Effect:\n",
    "Check the p-value for program:experience_level. If p < 0.05, there's an interaction effect, meaning the effect of one factor depends on the level of the other.\n",
    "Explore the interaction using visualizations or further comparisons."
   ]
  },
  {
   "cell_type": "code",
   "execution_count": null,
   "id": "76fdf6da-791d-4724-9bfd-1ff3b8e18432",
   "metadata": {},
   "outputs": [],
   "source": [
    "Q11: Two-Sample t-test and Post-hoc Test"
   ]
  },
  {
   "cell_type": "code",
   "execution_count": 16,
   "id": "71b7286f-d560-41b1-ad6e-2605b80e64f9",
   "metadata": {},
   "outputs": [
    {
     "name": "stdout",
     "output_type": "stream",
     "text": [
      "t-statistic: 4.387862045841161\n",
      "p-value: 0.0023241881225952343\n"
     ]
    }
   ],
   "source": [
    "import pandas as pd\n",
    "import scipy.stats as stats\n",
    "\n",
    "# Example data for test scores\n",
    "experimental_scores = [85, 90, 88, 92, 87]  # Replace with your experimental group scores\n",
    "control_scores = [78, 82, 80, 85, 79]  # Replace with your control group scores\n",
    "\n",
    "# Check if both arrays have the same length\n",
    "if len(experimental_scores) == len(control_scores):\n",
    "    # Perform the t-test\n",
    "    t_statistic, p_value = stats.ttest_ind(experimental_scores, control_scores)\n",
    "    print(\"t-statistic:\", t_statistic)\n",
    "    print(\"p-value:\", p_value)\n",
    "else:\n",
    "    print(\"Lengths of arrays do not match.\")\n"
   ]
  },
  {
   "cell_type": "code",
   "execution_count": null,
   "id": "ec86daeb-e97c-465c-b8dc-b0f78e8f87e2",
   "metadata": {},
   "outputs": [],
   "source": [
    "Post-hoc Test (if p < 0.05):\n",
    "\n",
    "Choose a suitable post-hoc test (e.g., Tukey's HSD, Games-Howell) based on assumptions and group sizes.\n",
    "Implement the chosen test to identify significantly different groups."
   ]
  },
  {
   "cell_type": "code",
   "execution_count": null,
   "id": "f817b283-e8e2-4217-a47d-1d9693cbea2e",
   "metadata": {},
   "outputs": [],
   "source": [
    "Q12: Repeated Measures ANOVA and Post-hoc Test"
   ]
  },
  {
   "cell_type": "code",
   "execution_count": 25,
   "id": "3aa440e3-caf2-4cb8-a052-164c07cd6421",
   "metadata": {},
   "outputs": [
    {
     "name": "stdout",
     "output_type": "stream",
     "text": [
      "               Anova\n",
      "===================================\n",
      "      F Value Num DF  Den DF Pr > F\n",
      "-----------------------------------\n",
      "store  0.2286 2.0000 16.0000 0.7982\n",
      "===================================\n",
      "\n"
     ]
    },
    {
     "ename": "AttributeError",
     "evalue": "'AnovaResults' object has no attribute 'pvalues'",
     "output_type": "error",
     "traceback": [
      "\u001b[0;31m---------------------------------------------------------------------------\u001b[0m",
      "\u001b[0;31mAttributeError\u001b[0m                            Traceback (most recent call last)",
      "Cell \u001b[0;32mIn[25], line 24\u001b[0m\n\u001b[1;32m     21\u001b[0m \u001b[38;5;28mprint\u001b[39m(rm_anova\u001b[38;5;241m.\u001b[39msummary())\n\u001b[1;32m     23\u001b[0m \u001b[38;5;66;03m# If the overall repeated measures ANOVA is significant, perform post-hoc Tukey HSD test\u001b[39;00m\n\u001b[0;32m---> 24\u001b[0m \u001b[38;5;28;01mif\u001b[39;00m \u001b[43mrm_anova\u001b[49m\u001b[38;5;241;43m.\u001b[39;49m\u001b[43mpvalues\u001b[49m[\u001b[38;5;124m'\u001b[39m\u001b[38;5;124mstore\u001b[39m\u001b[38;5;124m'\u001b[39m] \u001b[38;5;241m<\u001b[39m \u001b[38;5;241m0.05\u001b[39m:\n\u001b[1;32m     25\u001b[0m     posthoc \u001b[38;5;241m=\u001b[39m pairwise_tukeyhsd(sales_df[\u001b[38;5;124m'\u001b[39m\u001b[38;5;124msales\u001b[39m\u001b[38;5;124m'\u001b[39m], sales_df[\u001b[38;5;124m'\u001b[39m\u001b[38;5;124mstore\u001b[39m\u001b[38;5;124m'\u001b[39m], alpha\u001b[38;5;241m=\u001b[39m\u001b[38;5;241m0.05\u001b[39m)\n\u001b[1;32m     26\u001b[0m     \u001b[38;5;28mprint\u001b[39m(posthoc)\n",
      "\u001b[0;31mAttributeError\u001b[0m: 'AnovaResults' object has no attribute 'pvalues'"
     ]
    }
   ],
   "source": [
    "import pandas as pd\n",
    "from statsmodels.stats.anova import AnovaRM\n",
    "import warnings\n",
    "warnings.filterwarnings('ignore')\n",
    "from statsmodels.stats.multicomp import pairwise_tukeyhsd\n",
    "\n",
    "# Example data\n",
    "store_data = ['A'] * 9 + ['B'] * 9 + ['C'] * 9  # 30 days, 3 stores\n",
    "day_data = list(range(1, 10)) * 3  # 30 days, repeated for each store\n",
    "sales_data = [100, 120, 110, 80, 85, 90, 150, 140, 130] * 3  # Example sales data, repeated for each store\n",
    "\n",
    "# Create DataFrame\n",
    "sales_df = pd.DataFrame({\n",
    "    'store': store_data,\n",
    "    'day': day_data,\n",
    "    'sales': sales_data\n",
    "})\n",
    "\n",
    "# Perform repeated measures ANOVA\n",
    "rm_anova = AnovaRM(data=sales_df, depvar='sales', within=['store'], subject='day').fit()\n",
    "print(rm_anova.summary())\n",
    "\n",
    "# If the overall repeated measures ANOVA is significant, perform post-hoc Tukey HSD test\n",
    "if rm_anova.pvalues['store'] < 0.05:\n",
    "    posthoc = pairwise_tukeyhsd(sales_df['sales'], sales_df['store'], alpha=0.05)\n",
    "    print(posthoc)\n"
   ]
  },
  {
   "cell_type": "code",
   "execution_count": null,
   "id": "05124ba5-b8c5-4cb8-a04f-76ade5a7f139",
   "metadata": {},
   "outputs": [],
   "source": []
  }
 ],
 "metadata": {
  "kernelspec": {
   "display_name": "Python 3 (ipykernel)",
   "language": "python",
   "name": "python3"
  },
  "language_info": {
   "codemirror_mode": {
    "name": "ipython",
    "version": 3
   },
   "file_extension": ".py",
   "mimetype": "text/x-python",
   "name": "python",
   "nbconvert_exporter": "python",
   "pygments_lexer": "ipython3",
   "version": "3.10.8"
  }
 },
 "nbformat": 4,
 "nbformat_minor": 5
}
