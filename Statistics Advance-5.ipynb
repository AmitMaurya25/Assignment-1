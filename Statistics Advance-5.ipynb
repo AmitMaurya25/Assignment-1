{
 "cells": [
  {
   "cell_type": "code",
   "execution_count": null,
   "id": "64ac6013-7141-4f5b-9bf0-03f7b38ffb7a",
   "metadata": {},
   "outputs": [],
   "source": [
    "Q1. Calculate the 95% confidence interval for a sample with a mean of 50 and a standard deviation of 5 using Python. Interpret the results."
   ]
  },
  {
   "cell_type": "code",
   "execution_count": 1,
   "id": "15713f91-636d-42b2-95a4-bbd92afac6e0",
   "metadata": {},
   "outputs": [
    {
     "name": "stdout",
     "output_type": "stream",
     "text": [
      "95% Confidence Interval: (49.02, 50.98)\n"
     ]
    }
   ],
   "source": [
    "import scipy.stats as stats\n",
    "\n",
    "mean = 50\n",
    "std_dev = 5\n",
    "sample_size = 100  # assuming sample size\n",
    "confidence_level = 0.95\n",
    "\n",
    "# Calculate standard error\n",
    "std_error = std_dev / (sample_size ** 0.5)\n",
    "\n",
    "# Calculate the margin of error\n",
    "margin_of_error = stats.norm.ppf((1 + confidence_level) / 2) * std_error\n",
    "\n",
    "# Calculate the confidence interval\n",
    "lower_bound = mean - margin_of_error\n",
    "upper_bound = mean + margin_of_error\n",
    "\n",
    "print(\"95% Confidence Interval: ({:.2f}, {:.2f})\".format(lower_bound, upper_bound))\n"
   ]
  },
  {
   "cell_type": "code",
   "execution_count": null,
   "id": "ef2ac3d9-3905-47cb-bff4-4921844ac838",
   "metadata": {},
   "outputs": [],
   "source": [
    "Q2. Conduct a chi-square goodness of fit test to determine if the distribution of colors of M&Ms in a bag matches the expected distribution."
   ]
  },
  {
   "cell_type": "code",
   "execution_count": 2,
   "id": "2f9d5428-f533-4f81-9c8a-17980bad1d94",
   "metadata": {},
   "outputs": [
    {
     "name": "stdout",
     "output_type": "stream",
     "text": [
      "Chi-square statistic: 1.75\n",
      "p-value: 0.882541374099146\n",
      "Fail to reject null hypothesis: The distribution of colors in the bag matches the expected distribution.\n"
     ]
    }
   ],
   "source": [
    "import scipy.stats as stats\n",
    "\n",
    "observed = [18, 22, 17, 10, 13, 20]  # observed counts for each color\n",
    "expected = [20, 20, 20, 10, 10, 20]  # expected counts for each color\n",
    "\n",
    "# Perform chi-square goodness of fit test\n",
    "chi_square, p_value = stats.chisquare(observed, expected)\n",
    "\n",
    "print(\"Chi-square statistic:\", chi_square)\n",
    "print(\"p-value:\", p_value)\n",
    "\n",
    "# Interpretation\n",
    "if p_value < 0.05:\n",
    "    print(\"Reject null hypothesis: The distribution of colors in the bag does not match the expected distribution.\")\n",
    "else:\n",
    "    print(\"Fail to reject null hypothesis: The distribution of colors in the bag matches the expected distribution.\")\n"
   ]
  },
  {
   "cell_type": "code",
   "execution_count": null,
   "id": "b214cc7d-e371-4386-a2f1-08db5f2ad814",
   "metadata": {},
   "outputs": [],
   "source": [
    "Q3. Calculate the chi-square statistic and p-value for a contingency table."
   ]
  },
  {
   "cell_type": "code",
   "execution_count": 4,
   "id": "eb4fd6ac-0893-4c3c-a595-ebeb04a1c4f3",
   "metadata": {},
   "outputs": [
    {
     "name": "stdout",
     "output_type": "stream",
     "text": [
      "Chi-square statistic: 5.833333333333334\n",
      "p-value: 0.05411376622282158\n",
      "Fail to reject null hypothesis: There is no significant association between smoking status and lung cancer diagnosis.\n"
     ]
    }
   ],
   "source": [
    "import scipy.stats as stats\n",
    "\n",
    "observed = [[20, 15], [10, 25], [15, 20]]  # contingency table data\n",
    "\n",
    "chi_square, p_value, _, _ = stats.chi2_contingency(observed)\n",
    "\n",
    "print(\"Chi-square statistic:\", chi_square)\n",
    "print(\"p-value:\", p_value)\n",
    "\n",
    "# Interpretation\n",
    "if p_value < 0.05:\n",
    "    print(\"Reject null hypothesis: There is a significant association between smoking status and lung cancer diagnosis.\")\n",
    "else:\n",
    "    print(\"Fail to reject null hypothesis: There is no significant association between smoking status and lung cancer diagnosis.\")\n"
   ]
  },
  {
   "cell_type": "code",
   "execution_count": null,
   "id": "69cc39bd-76bc-45ae-a7b0-8c6da084bcec",
   "metadata": {},
   "outputs": [],
   "source": [
    "Q4. Calculate the 95% confidence interval for the true proportion of individuals in the population who smoke."
   ]
  },
  {
   "cell_type": "code",
   "execution_count": 5,
   "id": "3060bb0b-32e4-42d5-a89b-ce289322a842",
   "metadata": {},
   "outputs": [
    {
     "name": "stdout",
     "output_type": "stream",
     "text": [
      "95% Confidence Interval: (0.09151638887130707, 0.1484836111286929)\n"
     ]
    }
   ],
   "source": [
    "import scipy.stats as stats\n",
    "\n",
    "# Sample size\n",
    "n = 500\n",
    "\n",
    "# Number of smokers in the sample\n",
    "smokers = 60\n",
    "\n",
    "# Proportion of smokers in the sample\n",
    "sample_proportion = smokers / n\n",
    "\n",
    "# Calculate standard error\n",
    "standard_error = (sample_proportion * (1 - sample_proportion) / n) ** 0.5\n",
    "\n",
    "# Calculate z-score for 95% confidence level\n",
    "z_score = stats.norm.ppf(0.975)\n",
    "\n",
    "# Calculate margin of error\n",
    "margin_of_error = z_score * standard_error\n",
    "\n",
    "# Calculate confidence interval\n",
    "confidence_interval = (sample_proportion - margin_of_error, sample_proportion + margin_of_error)\n",
    "\n",
    "print(\"95% Confidence Interval:\", confidence_interval)\n"
   ]
  },
  {
   "cell_type": "code",
   "execution_count": null,
   "id": "539fe330-2abf-43f7-b462-bc6d3962f41e",
   "metadata": {},
   "outputs": [],
   "source": [
    "Q5. Calculate the 90% confidence interval for a sample of data with a mean of 75 and a standard deviation of 12 using Python. Interpret the results."
   ]
  },
  {
   "cell_type": "code",
   "execution_count": 7,
   "id": "bedfb4fa-c4d5-4a33-b8fa-3fdb19d3c2cb",
   "metadata": {},
   "outputs": [
    {
     "name": "stdout",
     "output_type": "stream",
     "text": [
      "90% Confidence Interval: (55.261756476582335, 94.73824352341767)\n"
     ]
    }
   ],
   "source": [
    "import scipy.stats as stats\n",
    "\n",
    "mean = 75\n",
    "std_dev = 12\n",
    "confidence_level = 0.90\n",
    "\n",
    "n = 1  # Since it's a single sample\n",
    "z_critical = stats.norm.ppf((1 + confidence_level) / 2)  # Two-tailed test\n",
    "margin_of_error = z_critical * (std_dev / (n ** 0.5))\n",
    "\n",
    "confidence_interval = (mean - margin_of_error, mean + margin_of_error)\n",
    "print(\"90% Confidence Interval:\", confidence_interval)\n"
   ]
  },
  {
   "cell_type": "code",
   "execution_count": null,
   "id": "297c6b1a-c136-4f35-a3b0-303d15bab1ac",
   "metadata": {},
   "outputs": [],
   "source": [
    "Q6. Use Python to plot the chi-square distribution with 10 degrees of freedom. Label the axes and shade the area corresponding to a chi-square statistic of 15."
   ]
  },
  {
   "cell_type": "code",
   "execution_count": 8,
   "id": "2c6b5005-1bbf-4fe0-8b9e-3fe67e9074f6",
   "metadata": {},
   "outputs": [
    {
     "data": {
      "image/png": "[encoded data removed]",
      "text/plain": [
       "<Figure size 640x480 with 1 Axes>"
      ]
     },
     "metadata": {},
     "output_type": "display_data"
    }
   ],
   "source": [
    "import numpy as np\n",
    "import matplotlib.pyplot as plt\n",
    "\n",
    "degrees_of_freedom = 10\n",
    "chi_square_statistic = 15\n",
    "\n",
    "x = np.linspace(0, 30, 1000)\n",
    "y = stats.chi2.pdf(x, degrees_of_freedom)\n",
    "\n",
    "plt.plot(x, y, label='Chi-square Distribution')\n",
    "plt.fill_between(x, y, where=(x >= chi_square_statistic), color='red', alpha=0.3)\n",
    "plt.xlabel('Chi-square Statistic')\n",
    "plt.ylabel('Probability Density')\n",
    "plt.title('Chi-square Distribution (10 degrees of freedom)')\n",
    "plt.legend()\n",
    "plt.show()\n"
   ]
  },
  {
   "cell_type": "code",
   "execution_count": null,
   "id": "d9884776-a722-4f8e-8876-a8e360ec517b",
   "metadata": {},
   "outputs": [],
   "source": [
    "Q7. A random sample of 1000 people was asked if they preferred Coke or Pepsi. Of the sample, 520 preferred Coke. Calculate a 99% confidence interval for the true proportion of people in the population who prefer Coke."
   ]
  },
  {
   "cell_type": "code",
   "execution_count": 9,
   "id": "540672bf-0967-41c5-9a5a-4cf37d5cba60",
   "metadata": {},
   "outputs": [
    {
     "name": "stdout",
     "output_type": "stream",
     "text": [
      "99% Confidence Interval for Coke Preference: (0.4793051576779699, 0.5606948423220302)\n"
     ]
    }
   ],
   "source": [
    "import statsmodels.stats.proportion as proportion\n",
    "\n",
    "# Sample size\n",
    "n = 1000\n",
    "\n",
    "# Number of people who preferred Coke\n",
    "coke_preferred = 520\n",
    "\n",
    "# Calculate confidence interval\n",
    "ci_lower, ci_upper = proportion.proportion_confint(coke_preferred, n, alpha=0.01)\n",
    "\n",
    "print(\"99% Confidence Interval for Coke Preference:\", (ci_lower, ci_upper))\n"
   ]
  },
  {
   "cell_type": "code",
   "execution_count": null,
   "id": "9b103221-f077-43d8-b959-8e9442024f3f",
   "metadata": {},
   "outputs": [],
   "source": [
    "Q8. A researcher hypothesizes that a coin is biased towards tails. They flip the coin 100 times and observe 45 tails. Conduct a chi-square goodness of fit test to determine if the observed frequencies match the expected frequencies of a fair coin. Use a significance level of 0.05."
   ]
  },
  {
   "cell_type": "code",
   "execution_count": 10,
   "id": "3d0154c2-177f-4931-9d76-bbea473a3562",
   "metadata": {},
   "outputs": [
    {
     "name": "stdout",
     "output_type": "stream",
     "text": [
      "Chi-square statistic: 1.0\n",
      "p-value: 0.31731050786291115\n",
      "Fail to reject null hypothesis: Observed frequencies match expected frequencies of a fair coin.\n"
     ]
    }
   ],
   "source": [
    "import scipy.stats as stats\n",
    "\n",
    "# Observed frequencies\n",
    "observed_frequencies = [45, 55]  # 45 tails, 55 heads\n",
    "\n",
    "# Expected frequencies for a fair coin\n",
    "expected_frequencies = [50, 50]\n",
    "\n",
    "# Perform chi-square goodness of fit test\n",
    "chi_square_statistic, p_value = stats.chisquare(observed_frequencies, expected_frequencies)\n",
    "\n",
    "print(\"Chi-square statistic:\", chi_square_statistic)\n",
    "print(\"p-value:\", p_value)\n",
    "\n",
    "if p_value < 0.05:\n",
    "    print(\"Reject null hypothesis: Observed frequencies do not match expected frequencies of a fair coin.\")\n",
    "else:\n",
    "    print(\"Fail to reject null hypothesis: Observed frequencies match expected frequencies of a fair coin.\")\n"
   ]
  },
  {
   "cell_type": "code",
   "execution_count": null,
   "id": "d22fe1cf-6b18-4c6a-bfca-b2c52d71bb40",
   "metadata": {},
   "outputs": [],
   "source": [
    "Q9. A study was conducted to determine if there is an association between smoking status (smoker or non-smoker) and lung cancer diagnosis (yes or no). The results are shown in the contingency table below. Conduct a chi-square test for independence to determine if there is a significant association between smoking status and lung cancer diagnosis."
   ]
  },
  {
   "cell_type": "code",
   "execution_count": 11,
   "id": "2b7cfd26-3d96-46c9-abe4-9bf07efa3372",
   "metadata": {},
   "outputs": [
    {
     "name": "stdout",
     "output_type": "stream",
     "text": [
      "Chi-square statistic: 5.833333333333334\n",
      "p-value: 0.05411376622282158\n",
      "Fail to reject null hypothesis: There is no significant association between smoking status and lung cancer diagnosis.\n"
     ]
    }
   ],
   "source": [
    "import numpy as np\n",
    "import scipy.stats as stats\n",
    "\n",
    "# Contingency table\n",
    "contingency_table = np.array([[20, 15],\n",
    "                               [10, 25],\n",
    "                               [15, 20]])\n",
    "\n",
    "chi_square_statistic, p_value, _, _ = stats.chi2_contingency(contingency_table)\n",
    "\n",
    "print(\"Chi-square statistic:\", chi_square_statistic)\n",
    "print(\"p-value:\", p_value)\n",
    "\n",
    "if p_value < 0.05:\n",
    "    print(\"Reject null hypothesis: There is a significant association between smoking status and lung cancer diagnosis.\")\n",
    "else:\n",
    "    print(\"Fail to reject null hypothesis: There is no significant association between smoking status and lung cancer diagnosis.\")\n"
   ]
  },
  {
   "cell_type": "code",
   "execution_count": null,
   "id": "fcbda510-ccc0-4d51-bf45-a85b31c59790",
   "metadata": {},
   "outputs": [],
   "source": [
    "Q10. A study was conducted to determine if the proportion of people who prefer milk chocolate, dark chocolate, or white chocolate is different in the U.S. versus the U.K. A random sample of 500 people from the U.S. and a random sample of 500 people from the U.K. were surveyed. ---------------------------------------------------------"
   ]
  },
  {
   "cell_type": "code",
   "execution_count": 12,
   "id": "18db8766-8437-45cd-8cd6-057c219904e7",
   "metadata": {},
   "outputs": [
    {
     "name": "stdout",
     "output_type": "stream",
     "text": [
      "Chi-square statistic: 13.393665158371041\n",
      "p-value: 0.0012348168997745918\n",
      "Reject null hypothesis: There is a significant association between chocolate preference and country of origin.\n"
     ]
    }
   ],
   "source": [
    "import numpy as np\n",
    "import scipy.stats as stats\n",
    "\n",
    "# Contingency table\n",
    "contingency_table = np.array([[200, 150, 150],\n",
    "                              [225, 175, 100]])\n",
    "\n",
    "chi_square_statistic, p_value, _, _ = stats.chi2_contingency(contingency_table)\n",
    "\n",
    "print(\"Chi-square statistic:\", chi_square_statistic)\n",
    "print(\"p-value:\", p_value)\n",
    "\n",
    "significance_level = 0.01\n",
    "if p_value < significance_level:\n",
    "    print(\"Reject null hypothesis: There is a significant association between chocolate preference and country of origin.\")\n",
    "else:\n",
    "    print(\"Fail to reject null hypothesis: There is no significant association between chocolate preference and country of origin.\")\n"
   ]
  },
  {
   "cell_type": "code",
   "execution_count": null,
   "id": "cfafad4a-ebde-4631-8320-4b103fae4c3f",
   "metadata": {},
   "outputs": [],
   "source": [
    "Q11. A random sample of 30 people was selected from a population with an unknown mean and standard deviation.-----------------------------------------------"
   ]
  },
  {
   "cell_type": "code",
   "execution_count": 13,
   "id": "184f7c7a-886f-4c73-9adc-5c50f6d8ee89",
   "metadata": {},
   "outputs": [
    {
     "name": "stdout",
     "output_type": "stream",
     "text": [
      "t-score: 1.0954451150103321\n",
      "p-value: 0.28233623728606977\n",
      "Fail to reject null hypothesis: Population mean is not significantly different from 70.\n"
     ]
    }
   ],
   "source": [
    "import scipy.stats as stats\n",
    "\n",
    "sample_mean = 72\n",
    "sample_std_dev = 10\n",
    "population_mean = 70\n",
    "n = 30\n",
    "significance_level = 0.05\n",
    "\n",
    "# Calculate the test statistic (t-score)\n",
    "t_score = (sample_mean - population_mean) / (sample_std_dev / (n ** 0.5))\n",
    "\n",
    "# Calculate the p-value\n",
    "p_value = stats.t.sf(abs(t_score), df=n-1) * 2  # two-tailed test\n",
    "\n",
    "print(\"t-score:\", t_score)\n",
    "print(\"p-value:\", p_value)\n",
    "\n",
    "if p_value < significance_level:\n",
    "    print(\"Reject null hypothesis: Population mean is significantly different from 70.\")\n",
    "else:\n",
    "    print(\"Fail to reject null hypothesis: Population mean is not significantly different from 70.\")\n"
   ]
  },
  {
   "cell_type": "code",
   "execution_count": null,
   "id": "91645c69-8b9d-4332-b1ca-e96d4bd07f09",
   "metadata": {},
   "outputs": [],
   "source": []
  }
 ],
 "metadata": {
  "kernelspec": {
   "display_name": "Python 3 (ipykernel)",
   "language": "python",
   "name": "python3"
  },
  "language_info": {
   "codemirror_mode": {
    "name": "ipython",
    "version": 3
   },
   "file_extension": ".py",
   "mimetype": "text/x-python",
   "name": "python",
   "nbconvert_exporter": "python",
   "pygments_lexer": "ipython3",
   "version": "3.10.8"
  }
 },
 "nbformat": 4,
 "nbformat_minor": 5
}
